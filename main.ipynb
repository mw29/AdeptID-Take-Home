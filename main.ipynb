{
 "cells": [
  {
   "cell_type": "markdown",
   "metadata": {},
   "source": [
    "# AdeptID Take Home"
   ]
  },
  {
   "cell_type": "markdown",
   "metadata": {},
   "source": [
    "## Exporatory Data Analysis\n"
   ]
  },
  {
   "cell_type": "code",
   "execution_count": 2,
   "metadata": {},
   "outputs": [
    {
     "name": "stderr",
     "output_type": "stream",
     "text": [
      "/var/folders/k0/1kf2c4rj2rx7n2dx3k7zxchm0000gn/T/ipykernel_63521/1525212031.py:3: FutureWarning: In a future version of pandas all arguments of read_csv except for the argument 'filepath_or_buffer' will be keyword-only.\n",
      "  data = pd.read_csv('./data/data.csv', ',')\n"
     ]
    },
    {
     "name": "stdout",
     "output_type": "stream",
     "text": [
      "Shape:  (50000, 60)\n"
     ]
    }
   ],
   "source": [
    "import pandas as pd\n",
    "\n",
    "data = pd.read_csv('./data/data.csv', ',')\n",
    "\n",
    "print(\"Shape: \", data.shape)\n"
   ]
  },
  {
   "cell_type": "code",
   "execution_count": 3,
   "metadata": {},
   "outputs": [
    {
     "name": "stdout",
     "output_type": "stream",
     "text": [
      "                        candidate_id application_status  \\\n",
      "0  bgjikcrozdgkrtzigymnaylpypxxublc0          interview   \n",
      "1  pgvjmzqyjgzmbgqetvzteeejufcexbur1          interview   \n",
      "2  snzyhcbqkbtiydfxcxhpcyzuirxzpxcx2          interview   \n",
      "3  tbugkzlvhnkjkgzclndonrcusetoygmc3              hired   \n",
      "4  fxhprrcbbbqkuidxmjcahezgljgnxbte4              hired   \n",
      "\n",
      "   number_of_employees_log                      occupation_id  \\\n",
      "0                      2.0  exvwhbxlejsfyqxnwjabksnntpwodfhr0   \n",
      "1                      1.0  jpegpbxvbsjbkwmahpbvcdbxzcdjmack1   \n",
      "2                      1.0  czwkhxbmdopwdiuufvsxtahuqnifojgl2   \n",
      "3                      4.0  aeuvpjqtkaeeqghymzriuvoyqfzikhwq3   \n",
      "4                      4.0  iyejtuewotamjissxrmlncpoteqyqvdk4   \n",
      "\n",
      "                          company_id  occupation_skill_1_count  \\\n",
      "0  xuemjhkyskdkwxlfbykrvkrffvpoepid0                       1.0   \n",
      "1  ndahnrikmemhkgwgsrfoaazzkszfntja1                       0.0   \n",
      "2  xzlecjjnxynakiohuqudeusnnrzlrivp2                       0.0   \n",
      "3  hxxnjooagjshdqeioibhovqqggztvbaw3                       NaN   \n",
      "4  tqjeojjlpmnmnnoxyrewiacjzipaawpm4                       0.0   \n",
      "\n",
      "   occupation_skill_2_count  occupation_skill_3_count  \\\n",
      "0                       0.0                       0.0   \n",
      "1                       0.0                       0.0   \n",
      "2                       1.0                       NaN   \n",
      "3                       NaN                       NaN   \n",
      "4                       NaN                       NaN   \n",
      "\n",
      "   occupation_skill_4_count  occupation_skill_5_count  ...  \\\n",
      "0                       1.0                       0.0  ...   \n",
      "1                       1.0                       1.0  ...   \n",
      "2                       0.0                       1.0  ...   \n",
      "3                       NaN                       0.0  ...   \n",
      "4                       0.0                       NaN  ...   \n",
      "\n",
      "   candidate_skill_2_count  candidate_skill_3_count  candidate_skill_4_count  \\\n",
      "0                      7.0                      2.0                      8.0   \n",
      "1                      NaN                      0.0                      4.0   \n",
      "2                      4.0                      7.0                      4.0   \n",
      "3                      5.0                      7.0                      0.0   \n",
      "4                      6.0                      NaN                      8.0   \n",
      "\n",
      "   candidate_skill_5_count  candidate_skill_6_count  candidate_skill_7_count  \\\n",
      "0                     12.0                      0.0                      9.0   \n",
      "1                     10.0                      5.0                      1.0   \n",
      "2                      NaN                      2.0                      NaN   \n",
      "3                      3.0                      1.0                      8.0   \n",
      "4                      NaN                      1.0                      1.0   \n",
      "\n",
      "  candidate_skill_8_count  candidate_skill_9_count  candidate_relative_test_1  \\\n",
      "0                     4.0                      6.0                   0.600274   \n",
      "1                     3.0                      0.0                   0.759273   \n",
      "2                     6.0                      1.0                   0.664639   \n",
      "3                     0.0                      NaN                   0.622446   \n",
      "4                    10.0                      4.0                   0.493108   \n",
      "\n",
      "   candidate_relative_test_2  \n",
      "0                   0.348715  \n",
      "1                   0.972119  \n",
      "2                   0.597499  \n",
      "3                   0.569189  \n",
      "4                   0.708251  \n",
      "\n",
      "[5 rows x 60 columns]\n"
     ]
    }
   ],
   "source": [
    "print(data.head())"
   ]
  },
  {
   "cell_type": "code",
   "execution_count": 4,
   "metadata": {},
   "outputs": [
    {
     "name": "stdout",
     "output_type": "stream",
     "text": [
      "<class 'pandas.core.frame.DataFrame'>\n",
      "RangeIndex: 50000 entries, 0 to 49999\n",
      "Data columns (total 60 columns):\n",
      " #   Column                             Non-Null Count  Dtype  \n",
      "---  ------                             --------------  -----  \n",
      " 0   candidate_id                       50000 non-null  object \n",
      " 1   application_status                 50000 non-null  object \n",
      " 2   number_of_employees_log            50000 non-null  float64\n",
      " 3   occupation_id                      50000 non-null  object \n",
      " 4   company_id                         50000 non-null  object \n",
      " 5   occupation_skill_1_count           33374 non-null  float64\n",
      " 6   occupation_skill_2_count           37227 non-null  float64\n",
      " 7   occupation_skill_3_count           34724 non-null  float64\n",
      " 8   occupation_skill_4_count           36279 non-null  float64\n",
      " 9   occupation_skill_5_count           34998 non-null  float64\n",
      " 10  occupation_skill_6_count           30468 non-null  float64\n",
      " 11  occupation_skill_7_count           32920 non-null  float64\n",
      " 12  occupation_skill_8_count           35718 non-null  float64\n",
      " 13  occupation_skill_9_count           34499 non-null  float64\n",
      " 14  candidate_attribute_1              38937 non-null  float64\n",
      " 15  candidate_attribute_2              47753 non-null  float64\n",
      " 16  application_attribute_1            50000 non-null  object \n",
      " 17  candidate_demographic_variable_1   40419 non-null  float64\n",
      " 18  candidate_demographic_variable_2   34620 non-null  float64\n",
      " 19  candidate_demographic_variable_3   35617 non-null  float64\n",
      " 20  candidate_demographic_variable_4   39561 non-null  float64\n",
      " 21  ethnicity                          47543 non-null  object \n",
      " 22  gender                             50000 non-null  object \n",
      " 23  candidate_demographic_variable_5   44679 non-null  object \n",
      " 24  candidate_demographic_variable_6   43232 non-null  float64\n",
      " 25  candidate_demographic_variable_7   46048 non-null  float64\n",
      " 26  candidate_demographic_variable_8   41383 non-null  float64\n",
      " 27  candidate_demographic_variable_9   50000 non-null  int64  \n",
      " 28  candidate_demographic_variable_10  50000 non-null  int64  \n",
      " 29  age                                48393 non-null  float64\n",
      " 30  candidate_attribute_3              44770 non-null  float64\n",
      " 31  candidate_attribute_4              44601 non-null  float64\n",
      " 32  candidate_attribute_5              47451 non-null  float64\n",
      " 33  candidate_attribute_6              36662 non-null  float64\n",
      " 34  candidate_attribute_7              41196 non-null  float64\n",
      " 35  candidate_interest_1               46008 non-null  float64\n",
      " 36  candidate_interest_2               33150 non-null  float64\n",
      " 37  candidate_interest_3               44503 non-null  float64\n",
      " 38  candidate_interest_4               45305 non-null  float64\n",
      " 39  candidate_interest_5               43824 non-null  float64\n",
      " 40  candidate_interest_6               45106 non-null  float64\n",
      " 41  candidate_interest_7               43146 non-null  float64\n",
      " 42  candidate_interest_8               46719 non-null  float64\n",
      " 43  candidate_attribute_8              46993 non-null  float64\n",
      " 44  number_years_feature_1             47740 non-null  float64\n",
      " 45  number_years_feature_2             47960 non-null  float64\n",
      " 46  number_years_feature_3             48122 non-null  float64\n",
      " 47  number_years_feature_4             48817 non-null  float64\n",
      " 48  number_years_feature_5             48173 non-null  float64\n",
      " 49  candidate_skill_1_count            45230 non-null  float64\n",
      " 50  candidate_skill_2_count            45312 non-null  float64\n",
      " 51  candidate_skill_3_count            43081 non-null  float64\n",
      " 52  candidate_skill_4_count            43514 non-null  float64\n",
      " 53  candidate_skill_5_count            45913 non-null  float64\n",
      " 54  candidate_skill_6_count            43799 non-null  float64\n",
      " 55  candidate_skill_7_count            43582 non-null  float64\n",
      " 56  candidate_skill_8_count            43976 non-null  float64\n",
      " 57  candidate_skill_9_count            44248 non-null  float64\n",
      " 58  candidate_relative_test_1          46086 non-null  float64\n",
      " 59  candidate_relative_test_2          46573 non-null  float64\n",
      "dtypes: float64(50), int64(2), object(8)\n",
      "memory usage: 22.9+ MB\n",
      "None\n"
     ]
    }
   ],
   "source": [
    "print(data.info())"
   ]
  },
  {
   "cell_type": "markdown",
   "metadata": {},
   "source": [
    "### Shuffle Data\n",
    "\n",
    "I shuffled the data to ensure a randomized order to prevent overfitting during model training.\n"
   ]
  },
  {
   "cell_type": "code",
   "execution_count": 5,
   "metadata": {},
   "outputs": [
    {
     "name": "stdout",
     "output_type": "stream",
     "text": [
      "                                candidate_id application_status  \\\n",
      "12563  okcbwbwvhdrleaphymtifmrefwaowakw12563      pre-interview   \n",
      "30833  fphlfgpvcwwimagveairduiomrptjhzp30833      pre-interview   \n",
      "22860  zbmcszwmworgvbdsozebmahkwtjqfsto22860          interview   \n",
      "6403    ztkynlncultaxprbnnpawhqwrqfkjjiq6403      pre-interview   \n",
      "35625  syxngelnymmeubfsjgjqgpglkccddofb35625      pre-interview   \n",
      "\n",
      "       number_of_employees_log                          occupation_id  \\\n",
      "12563                      2.6  orhasokmlnbaziwovtfueaahovxstqco12563   \n",
      "30833                      1.0  ggcwbwhiutlzlrcbrdbbufaetktrpgmu30833   \n",
      "22860                      2.6  kjgozopbtwoegyrnrzsyhqvdfawjghmr22860   \n",
      "6403                       2.9   zbhtcqrfhkaozewbsvdhzqvtbbmnptnp6403   \n",
      "35625                      2.9  csnkfqrjckqavwnsmugrusnkaoxvnvzw35625   \n",
      "\n",
      "                                  company_id  occupation_skill_1_count  \\\n",
      "12563  clrklofemriugriaasgudooghyfkiozf12563                       NaN   \n",
      "30833  omxxzlddzolxtqyigxuxspkyszsgdedv30833                       NaN   \n",
      "22860  pbspdcxwzesbbvrigxbcbozfhlyagldn22860                       NaN   \n",
      "6403    pdddewpcrmxzwxylxgpnudkcsewamayt6403                       0.0   \n",
      "35625  qqxxttelmesryolbshfwbxezkgnwqgfq35625                       0.0   \n",
      "\n",
      "       occupation_skill_2_count  occupation_skill_3_count  \\\n",
      "12563                       0.0                       1.0   \n",
      "30833                       1.0                       1.0   \n",
      "22860                       0.0                       NaN   \n",
      "6403                        0.0                       NaN   \n",
      "35625                       0.0                       1.0   \n",
      "\n",
      "       occupation_skill_4_count  occupation_skill_5_count  ...  \\\n",
      "12563                       NaN                       1.0  ...   \n",
      "30833                       1.0                       NaN  ...   \n",
      "22860                       0.0                       1.0  ...   \n",
      "6403                        0.0                       NaN  ...   \n",
      "35625                       0.0                       0.0  ...   \n",
      "\n",
      "       candidate_skill_2_count  candidate_skill_3_count  \\\n",
      "12563                      4.0                      1.0   \n",
      "30833                      0.0                      7.0   \n",
      "22860                      4.0                      3.0   \n",
      "6403                       1.0                      3.0   \n",
      "35625                      0.0                      0.0   \n",
      "\n",
      "       candidate_skill_4_count  candidate_skill_5_count  \\\n",
      "12563                      5.0                     12.0   \n",
      "30833                      2.0                      0.0   \n",
      "22860                      6.0                     12.0   \n",
      "6403                       6.0                      0.0   \n",
      "35625                      0.0                      6.0   \n",
      "\n",
      "       candidate_skill_6_count  candidate_skill_7_count  \\\n",
      "12563                      0.0                      0.0   \n",
      "30833                      1.0                      1.0   \n",
      "22860                      2.0                      5.0   \n",
      "6403                       4.0                      9.0   \n",
      "35625                      NaN                      1.0   \n",
      "\n",
      "      candidate_skill_8_count  candidate_skill_9_count  \\\n",
      "12563                     6.0                      4.0   \n",
      "30833                     1.0                      3.0   \n",
      "22860                     2.0                      8.0   \n",
      "6403                      1.0                      2.0   \n",
      "35625                     1.0                      1.0   \n",
      "\n",
      "       candidate_relative_test_1  candidate_relative_test_2  \n",
      "12563                   0.673345                   0.176078  \n",
      "30833                        NaN                        NaN  \n",
      "22860                   0.796143                   0.130354  \n",
      "6403                    0.372053                   0.988969  \n",
      "35625                        NaN                   0.487208  \n",
      "\n",
      "[5 rows x 60 columns]\n"
     ]
    }
   ],
   "source": [
    "from sklearn.utils import shuffle\n",
    "\n",
    "data = shuffle(data)\n",
    "\n",
    "print(data.head())"
   ]
  },
  {
   "cell_type": "markdown",
   "metadata": {},
   "source": [
    "## Handling Missing Data\n",
    "First, I check how many missing values there are in each column.\n",
    "\n",
    "Then, I impute missing continuous data and remove the rows containing missing categorical data. "
   ]
  },
  {
   "cell_type": "code",
   "execution_count": 6,
   "metadata": {},
   "outputs": [
    {
     "name": "stdout",
     "output_type": "stream",
     "text": [
      "candidate_id                             0\n",
      "application_status                       0\n",
      "number_of_employees_log                  0\n",
      "occupation_id                            0\n",
      "company_id                               0\n",
      "occupation_skill_1_count             16626\n",
      "occupation_skill_2_count             12773\n",
      "occupation_skill_3_count             15276\n",
      "occupation_skill_4_count             13721\n",
      "occupation_skill_5_count             15002\n",
      "occupation_skill_6_count             19532\n",
      "occupation_skill_7_count             17080\n",
      "occupation_skill_8_count             14282\n",
      "occupation_skill_9_count             15501\n",
      "candidate_attribute_1                11063\n",
      "candidate_attribute_2                 2247\n",
      "application_attribute_1                  0\n",
      "candidate_demographic_variable_1      9581\n",
      "candidate_demographic_variable_2     15380\n",
      "candidate_demographic_variable_3     14383\n",
      "candidate_demographic_variable_4     10439\n",
      "ethnicity                             2457\n",
      "gender                                   0\n",
      "candidate_demographic_variable_5      5321\n",
      "candidate_demographic_variable_6      6768\n",
      "candidate_demographic_variable_7      3952\n",
      "candidate_demographic_variable_8      8617\n",
      "candidate_demographic_variable_9         0\n",
      "candidate_demographic_variable_10        0\n",
      "age                                   1607\n",
      "candidate_attribute_3                 5230\n",
      "candidate_attribute_4                 5399\n",
      "candidate_attribute_5                 2549\n",
      "candidate_attribute_6                13338\n",
      "candidate_attribute_7                 8804\n",
      "candidate_interest_1                  3992\n",
      "candidate_interest_2                 16850\n",
      "candidate_interest_3                  5497\n",
      "candidate_interest_4                  4695\n",
      "candidate_interest_5                  6176\n",
      "candidate_interest_6                  4894\n",
      "candidate_interest_7                  6854\n",
      "candidate_interest_8                  3281\n",
      "candidate_attribute_8                 3007\n",
      "number_years_feature_1                2260\n",
      "number_years_feature_2                2040\n",
      "number_years_feature_3                1878\n",
      "number_years_feature_4                1183\n",
      "number_years_feature_5                1827\n",
      "candidate_skill_1_count               4770\n",
      "candidate_skill_2_count               4688\n",
      "candidate_skill_3_count               6919\n",
      "candidate_skill_4_count               6486\n",
      "candidate_skill_5_count               4087\n",
      "candidate_skill_6_count               6201\n",
      "candidate_skill_7_count               6418\n",
      "candidate_skill_8_count               6024\n",
      "candidate_skill_9_count               5752\n",
      "candidate_relative_test_1             3914\n",
      "candidate_relative_test_2             3427\n",
      "dtype: int64\n"
     ]
    }
   ],
   "source": [
    "print(data.isnull().sum())"
   ]
  },
  {
   "cell_type": "markdown",
   "metadata": {},
   "source": [
    "### Impute Values for Missing Continuous Data\n",
    "\n",
    "I impute continuous data using the columns' medians to account for any outliers."
   ]
  },
  {
   "cell_type": "code",
   "execution_count": 7,
   "metadata": {},
   "outputs": [
    {
     "name": "stdout",
     "output_type": "stream",
     "text": [
      "candidate_id                            0\n",
      "application_status                      0\n",
      "number_of_employees_log                 0\n",
      "occupation_id                           0\n",
      "company_id                              0\n",
      "occupation_skill_1_count                0\n",
      "occupation_skill_2_count                0\n",
      "occupation_skill_3_count                0\n",
      "occupation_skill_4_count                0\n",
      "occupation_skill_5_count                0\n",
      "occupation_skill_6_count                0\n",
      "occupation_skill_7_count                0\n",
      "occupation_skill_8_count                0\n",
      "occupation_skill_9_count                0\n",
      "candidate_attribute_1                   0\n",
      "candidate_attribute_2                   0\n",
      "application_attribute_1                 0\n",
      "candidate_demographic_variable_1        0\n",
      "candidate_demographic_variable_2        0\n",
      "candidate_demographic_variable_3        0\n",
      "candidate_demographic_variable_4        0\n",
      "ethnicity                            2457\n",
      "gender                                  0\n",
      "candidate_demographic_variable_5     5321\n",
      "candidate_demographic_variable_6        0\n",
      "candidate_demographic_variable_7        0\n",
      "candidate_demographic_variable_8        0\n",
      "candidate_demographic_variable_9        0\n",
      "candidate_demographic_variable_10       0\n",
      "age                                     0\n",
      "candidate_attribute_3                   0\n",
      "candidate_attribute_4                   0\n",
      "candidate_attribute_5                   0\n",
      "candidate_attribute_6                   0\n",
      "candidate_attribute_7                   0\n",
      "candidate_interest_1                    0\n",
      "candidate_interest_2                    0\n",
      "candidate_interest_3                    0\n",
      "candidate_interest_4                    0\n",
      "candidate_interest_5                    0\n",
      "candidate_interest_6                    0\n",
      "candidate_interest_7                    0\n",
      "candidate_interest_8                    0\n",
      "candidate_attribute_8                   0\n",
      "number_years_feature_1                  0\n",
      "number_years_feature_2                  0\n",
      "number_years_feature_3                  0\n",
      "number_years_feature_4                  0\n",
      "number_years_feature_5                  0\n",
      "candidate_skill_1_count                 0\n",
      "candidate_skill_2_count                 0\n",
      "candidate_skill_3_count                 0\n",
      "candidate_skill_4_count                 0\n",
      "candidate_skill_5_count                 0\n",
      "candidate_skill_6_count                 0\n",
      "candidate_skill_7_count                 0\n",
      "candidate_skill_8_count                 0\n",
      "candidate_skill_9_count                 0\n",
      "candidate_relative_test_1               0\n",
      "candidate_relative_test_2               0\n",
      "dtype: int64\n"
     ]
    }
   ],
   "source": [
    "from sklearn.impute import SimpleImputer\n",
    "import numpy as np\n",
    "\n",
    "cols_NaN = []\n",
    "for column in data.columns:\n",
    "    if(data[column].isna().sum()>0):\n",
    "        cols_NaN.append(column)\n",
    "\n",
    "cols_NaN.remove('ethnicity')\n",
    "cols_NaN.remove('candidate_demographic_variable_5')\n",
    "\n",
    "imputer = SimpleImputer(missing_values=np.NaN, strategy='median')\n",
    "\n",
    "imputer=imputer.fit(data[cols_NaN])\n",
    "\n",
    "data[cols_NaN]=imputer.transform(data[cols_NaN])\n",
    "\n",
    "print(data.isnull().sum())\n",
    "\n"
   ]
  },
  {
   "cell_type": "markdown",
   "metadata": {},
   "source": [
    "### Drop Rows for Missing Categorical Data\n",
    "\n",
    "Now, only the categorical rows are missing data. The simplest (and in this case best) solution is to remove any rows containing missing categorical data. \n",
    "\n",
    "Now that we have imputed all the data we can, we will remove the rows that contain NaN values for one or more categorical variables"
   ]
  },
  {
   "cell_type": "code",
   "execution_count": 8,
   "metadata": {},
   "outputs": [
    {
     "name": "stdout",
     "output_type": "stream",
     "text": [
      "0\n",
      "(42502, 60)\n"
     ]
    }
   ],
   "source": [
    "data = data.dropna(axis = 0)\n",
    "print(data.isna().sum().sum())\n",
    "print(data.shape)\n"
   ]
  },
  {
   "cell_type": "markdown",
   "metadata": {},
   "source": [
    "## Random Forest Ensemble\n",
    "\n",
    "The first step is to one-hot encode the categorical data, i.e., the gender, ethnicity, and candidate_demographic_variable_5."
   ]
  },
  {
   "cell_type": "code",
   "execution_count": 9,
   "metadata": {},
   "outputs": [],
   "source": [
    "def oneHot(col_name, data):\n",
    "    if col_name in data:\n",
    "        one_hot_df = pd.get_dummies(data[col_name])\n",
    "        data = pd.concat([data, one_hot_df], axis=1)\n",
    "        data.drop(col_name, axis=1, inplace=True)\n",
    "    \n",
    "    return data"
   ]
  },
  {
   "cell_type": "code",
   "execution_count": 21,
   "metadata": {},
   "outputs": [],
   "source": [
    "# Gender One-Hot Encoding\n",
    "\n",
    "data = (oneHot('gender', data))\n",
    "\n",
    "# Ethnicity One-Hot Encoding\n",
    "\n",
    "data = (oneHot('ethnicity',data))\n",
    "\n",
    "# candidate_demographic_variable_5\n",
    "\n",
    "data = oneHot('candidate_demographic_variable_5', data)\n"
   ]
  },
  {
   "cell_type": "markdown",
   "metadata": {},
   "source": [
    "### Handling the application_attribute_1 Column\n",
    "\n",
    "I removed the application_attribute_1 column because each applicant has a different value for this attribute. Removing this column has no affect. "
   ]
  },
  {
   "cell_type": "code",
   "execution_count": 11,
   "metadata": {},
   "outputs": [
    {
     "name": "stdout",
     "output_type": "stream",
     "text": [
      "42502\n",
      "(42502, 90)\n"
     ]
    }
   ],
   "source": [
    "print(data['application_attribute_1'].value_counts().sum())\n",
    "print(data.shape)"
   ]
  },
  {
   "cell_type": "markdown",
   "metadata": {},
   "source": [
    "## Random Forest Ensemble\n",
    "\n",
    "Now that the data is ready, I can build a random forest model.\n",
    "- First I partition the data into the dependent variables (X) and an indepentent variable (y). I exclude the canidate_id, occupation_id, company_id, and application_attribute_1 columns from the dependent variables list.\n",
    "- Then I split the data in to train and testing data.\n"
   ]
  },
  {
   "cell_type": "code",
   "execution_count": 13,
   "metadata": {},
   "outputs": [],
   "source": [
    "from sklearn.model_selection import train_test_split\n",
    "from sklearn.ensemble import RandomForestClassifier\n",
    "\n",
    "X = data.loc[ : , ~data.columns.isin(['application_status', 'candidate_id','occupation_id','company_id','application_attribute_1'])]\n",
    "y = data['application_status']\n",
    "X_train, X_test, y_train, y_test = train_test_split(X, y, stratify=y, test_size=0.3, random_state=100)\n"
   ]
  },
  {
   "cell_type": "markdown",
   "metadata": {},
   "source": [
    "The model can be created and trained using the Sckit Learn ensemble package. "
   ]
  },
  {
   "cell_type": "code",
   "execution_count": 14,
   "metadata": {},
   "outputs": [],
   "source": [
    "\n",
    "forest = RandomForestClassifier(n_estimators=150, max_features=45, criterion='entropy')\n",
    "\n",
    "forest.fit(X_train,y_train)\n",
    "\n",
    "train_pred = forest.predict(X_train)\n",
    "predictions = forest.predict(X_test)\n"
   ]
  },
  {
   "cell_type": "markdown",
   "metadata": {},
   "source": [
    "## Metrics\n",
    "\n",
    "The model is now trained and can be assessed. \n",
    "\n",
    "- First, I calculate model accuracy on the training and test sets."
   ]
  },
  {
   "cell_type": "code",
   "execution_count": 15,
   "metadata": {},
   "outputs": [
    {
     "name": "stdout",
     "output_type": "stream",
     "text": [
      "Train Accuracy: 1.0\n",
      "Test Accuracy: 0.7190808564034193\n"
     ]
    }
   ],
   "source": [
    "from sklearn import metrics\n",
    "\n",
    "print(\"Train Accuracy:\",metrics.accuracy_score(y_train, train_pred))\n",
    "print(\"Test Accuracy:\",metrics.accuracy_score(y_test, predictions))"
   ]
  },
  {
   "cell_type": "markdown",
   "metadata": {},
   "source": [
    "### Looking into the Predictions\n",
    "- This model suffers from systematicity. Each prediction is the same for all iterations.\n",
    "\n"
   ]
  },
  {
   "cell_type": "code",
   "execution_count": 32,
   "metadata": {},
   "outputs": [
    {
     "name": "stdout",
     "output_type": "stream",
     "text": [
      "       11209      4286       509    915            8597           9984   \\\n",
      "0  interview  interview  interview  hired  pre-interview  pre-interview   \n",
      "1  interview  interview  interview  hired  pre-interview  pre-interview   \n",
      "2  interview  interview  interview  hired  pre-interview  pre-interview   \n",
      "3  interview  interview  interview  hired  pre-interview  pre-interview   \n",
      "4  interview  interview  interview  hired  pre-interview  pre-interview   \n",
      "\n",
      "   5980           5943       11872          9038   \n",
      "0  hired  pre-interview  interview  pre-interview  \n",
      "1  hired  pre-interview  interview  pre-interview  \n",
      "2  hired  pre-interview  interview  pre-interview  \n",
      "3  hired  pre-interview  interview  pre-interview  \n",
      "4  hired  pre-interview  interview  pre-interview  \n"
     ]
    }
   ],
   "source": [
    "\n",
    "rfp = []\n",
    "for i in range(5):\n",
    "    rfp.append(forest.predict(X_test))\n",
    "rfp = pd.DataFrame(rfp)\n",
    "\n",
    "subRFP = rfp.sample(10, axis=1)\n",
    "print(subRFP)\n"
   ]
  },
  {
   "cell_type": "markdown",
   "metadata": {},
   "source": [
    "## Systematicity Handling\n",
    "\n",
    "To improve the previous model, I implemented a new Random Forest model where each tree gets 45 random features. Each tree produces a weighted \"vote\" as prediction time. This adds two levels of variation and the result is a set of predictions. \n",
    "\n",
    "The inspiration behind this model is human hiring committees. Each tree represent a committee member, each of which will have a different set of important features and vote. This adds varience in the groip of hired people and better models real-world hiring processes. "
   ]
  },
  {
   "cell_type": "code",
   "execution_count": 51,
   "metadata": {},
   "outputs": [
    {
     "name": "stdout",
     "output_type": "stream",
     "text": [
      "Training Tree:  0\n",
      "Training Tree:  1\n",
      "Training Tree:  2\n",
      "Training Tree:  3\n",
      "Training Tree:  4\n"
     ]
    }
   ],
   "source": [
    "from sklearn.tree import DecisionTreeClassifier\n",
    "from sklearn.preprocessing import OneHotEncoder\n",
    "import random\n",
    "\n",
    "possibilities = [\"pre-interview\", \"interview\", \"hired\"]\n",
    "def oneHotPred(pred):\n",
    "    ind = possibilities.index(pred)\n",
    "    encoding = [0,0,0]\n",
    "    encoding[ind] = 1\n",
    "    return encoding\n",
    "\n",
    "def oneHotPredArr(predArr):\n",
    "    return np.array([oneHotPred(pred) for pred in predArr])\n",
    "\n",
    "class RandomWeightedForest:\n",
    "    def __init__(self, n_estimators=5, max_features=45, criterion='entropy'):\n",
    "        self.n_estimators = n_estimators\n",
    "        self.max_features = max_features\n",
    "        self.criterion = criterion\n",
    "        self.trees = []\n",
    "    \n",
    "    def fit(self,x_train, y_train):\n",
    "        for i in range(self.n_estimators):\n",
    "            tree = DecisionTreeClassifier(max_features=self.max_features, criterion=self.criterion, random_state = i, splitter=\"random\")\n",
    "            tree.fit(x_train, y_train)\n",
    "            self.trees.append(tree)\n",
    "            print(\"Training Tree: \", i)\n",
    "\n",
    "    def predict(self, x):\n",
    "        predictions = [oneHotPredArr(tree.predict(x))*random.random() for tree in self.trees]\n",
    "        predictions = np.array(predictions).sum(axis=0)\n",
    "        prediction = [possibilities[ind.argmax()] for ind in predictions]\n",
    "        return prediction\n",
    "        \n",
    "\n",
    "\n",
    "rwf = RandomWeightedForest()\n",
    "rwf.fit(X_train, y_train)\n",
    "\n"
   ]
  },
  {
   "cell_type": "markdown",
   "metadata": {},
   "source": [
    "Here, I call the predict method five times. This emulates five different hiring committees. "
   ]
  },
  {
   "cell_type": "code",
   "execution_count": 42,
   "metadata": {},
   "outputs": [],
   "source": [
    "\n",
    "w = []\n",
    "for i in range(5):\n",
    "    w.append(rwf.predict(X_test))\n",
    "w = pd.DataFrame(w)\n",
    "\n"
   ]
  },
  {
   "cell_type": "markdown",
   "metadata": {},
   "source": [
    "## Model Evaulation\n",
    "- First, randomly select 10 columns (applicants)"
   ]
  },
  {
   "cell_type": "code",
   "execution_count": 52,
   "metadata": {},
   "outputs": [
    {
     "name": "stdout",
     "output_type": "stream",
     "text": [
      "       1402           10805          12247  7832           1579   \\\n",
      "0  interview      interview  pre-interview  hired  pre-interview   \n",
      "1  interview      interview  pre-interview  hired  pre-interview   \n",
      "2      hired  pre-interview      interview  hired  pre-interview   \n",
      "3  interview      interview  pre-interview  hired  pre-interview   \n",
      "4  interview      interview  pre-interview  hired  pre-interview   \n",
      "\n",
      "           396            6084           11908  6428           5111   \n",
      "0  pre-interview      interview  pre-interview  hired  pre-interview  \n",
      "1  pre-interview      interview  pre-interview  hired  pre-interview  \n",
      "2  pre-interview  pre-interview          hired  hired  pre-interview  \n",
      "3  pre-interview      interview  pre-interview  hired  pre-interview  \n",
      "4  pre-interview      interview  pre-interview  hired  pre-interview  \n"
     ]
    }
   ],
   "source": [
    "subRWFP = w.sample(10, axis=1)\n",
    "print(subRWFP)"
   ]
  },
  {
   "cell_type": "markdown",
   "metadata": {},
   "source": [
    "The following code converts hired to 1 and everything else to 0. This will allow use to explore the intersections of the sets. "
   ]
  },
  {
   "cell_type": "code",
   "execution_count": 53,
   "metadata": {},
   "outputs": [
    {
     "name": "stdout",
     "output_type": "stream",
     "text": [
      "       0  1  2  3  4\n",
      "7415   0  0  0  0  0\n",
      "3660   0  0  1  0  0\n",
      "6286   0  0  0  0  0\n",
      "1664   0  0  0  0  0\n",
      "6795   0  0  0  0  0\n",
      "6661   1  1  0  1  1\n",
      "2182   0  0  0  0  0\n",
      "4466   0  0  0  0  0\n",
      "2476   1  1  1  1  1\n",
      "11189  1  1  1  1  1\n",
      "Borderline Applicants:  [0, 1, 0, 0, 0, 1, 0, 0, 0, 0]\n",
      "Strongest Applicants:    [0, 0, 0, 0, 0, 0, 0, 0, 1, 1]\n"
     ]
    }
   ],
   "source": [
    "subRWFP = w.sample(10, axis=1)\n",
    "subRWFP = subRWFP.replace('hired', 1)\n",
    "subRWFP = subRWFP.replace(['pre-interview','interview'], 0)\n",
    "subRWFP = subRWFP.T\n",
    "\n",
    "strongest_apps = []\n",
    "borderline_apps = []\n",
    "\n",
    "print(subRWFP)\n",
    "\n",
    "for i, row in subRWFP.iterrows():\n",
    "    if any(row) and not all(row):\n",
    "        borderline_apps.append(1)\n",
    "    else:\n",
    "        borderline_apps.append(0)\n",
    "    if all(row):\n",
    "        strongest_apps.append(1)\n",
    "    else:\n",
    "        strongest_apps.append(0)\n",
    "\n",
    "print(\"Borderline Applicants: \", borderline_apps)\n",
    "print(\"Strongest Applicants:   \", strongest_apps)"
   ]
  },
  {
   "cell_type": "code",
   "execution_count": 54,
   "metadata": {},
   "outputs": [
    {
     "name": "stdout",
     "output_type": "stream",
     "text": [
      "0.0\n",
      "20.0\n",
      "0.0\n",
      "0.0\n",
      "0.0\n",
      "80.0\n",
      "0.0\n",
      "0.0\n",
      "100.0\n",
      "100.0\n",
      "Borderline Applicants:  [0, 0, 0, 0, 0, 1, 0, 0, 0, 0]\n",
      "Strongest Applicants:    [0, 0, 0, 0, 0, 0, 0, 0, 1, 1]\n"
     ]
    }
   ],
   "source": [
    "strongest_apps_2 = []\n",
    "borderline_apps_2 = []\n",
    "\n",
    "for i, r in subRWFP.iterrows():\n",
    "    percent_hired = ((r.sum()/5)*100)\n",
    "    print(percent_hired)\n",
    "    if percent_hired >= 60.0:\n",
    "        if percent_hired == 100.0:\n",
    "            strongest_apps_2.append(1)\n",
    "            borderline_apps_2.append(0)\n",
    "        else:\n",
    "            borderline_apps_2.append(1)\n",
    "            strongest_apps_2.append(0)\n",
    "    else:\n",
    "        strongest_apps_2.append(0)\n",
    "        borderline_apps_2.append(0)\n",
    "\n",
    "print(\"Borderline Applicants: \", borderline_apps_2)\n",
    "print(\"Strongest Applicants:   \", strongest_apps_2)\n",
    "   "
   ]
  },
  {
   "cell_type": "code",
   "execution_count": null,
   "metadata": {},
   "outputs": [],
   "source": []
  }
 ],
 "metadata": {
  "kernelspec": {
   "display_name": "Python 3.8.9 64-bit",
   "language": "python",
   "name": "python3"
  },
  "language_info": {
   "codemirror_mode": {
    "name": "ipython",
    "version": 3
   },
   "file_extension": ".py",
   "mimetype": "text/x-python",
   "name": "python",
   "nbconvert_exporter": "python",
   "pygments_lexer": "ipython3",
   "version": "3.8.9"
  },
  "orig_nbformat": 4,
  "vscode": {
   "interpreter": {
    "hash": "31f2aee4e71d21fbe5cf8b01ff0e069b9275f58929596ceb00d14d90e3e16cd6"
   }
  }
 },
 "nbformat": 4,
 "nbformat_minor": 2
}
